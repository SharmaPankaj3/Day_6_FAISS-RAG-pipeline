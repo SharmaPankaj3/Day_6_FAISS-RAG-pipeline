{
 "cells": [
  {
   "cell_type": "markdown",
   "id": "854302ca-d73b-415e-b473-de3e03a113ef",
   "metadata": {},
   "source": [
    "# Day 6 coding: FAISS + RAG pipeline \n",
    "We are essentially building a mini RAG retrieval example with:\n",
    "\n",
    "client-specific documents\n",
    "\n",
    "embeddings of those documents\n",
    "\n",
    "FAISS as the vector DB\n",
    "\n",
    "a query we embed & search\n",
    "\n",
    "top‑k results retrieved\n",
    "\n"
   ]
  },
  {
   "cell_type": "markdown",
   "id": "2ba5c390-cee3-4e9f-9672-587bb82cc5e5",
   "metadata": {},
   "source": [
    "# Step 1: Install Libraries\n",
    "\n",
    "Why?\n",
    "\n",
    "sentence-transformers: to convert text to embeddings (dense vectors).\n",
    "\n",
    "faiss-cpu: lightweight vector database library (Facebook AI Similarity Search).\n"
   ]
  },
  {
   "cell_type": "code",
   "execution_count": 4,
   "id": "36dc752f-0957-478a-85e5-69fd74bc7da6",
   "metadata": {},
   "outputs": [
    {
     "name": "stdout",
     "output_type": "stream",
     "text": [
      "Requirement already satisfied: sentence-transformers in c:\\users\\pankaj sharma\\anaconda3\\envs\\genai\\lib\\site-packages (5.0.0)\n",
      "Requirement already satisfied: faiss-cpu in c:\\users\\pankaj sharma\\anaconda3\\envs\\genai\\lib\\site-packages (1.11.0.post1)\n",
      "Requirement already satisfied: transformers<5.0.0,>=4.41.0 in c:\\users\\pankaj sharma\\anaconda3\\envs\\genai\\lib\\site-packages (from sentence-transformers) (4.53.2)\n",
      "Requirement already satisfied: tqdm in c:\\users\\pankaj sharma\\anaconda3\\envs\\genai\\lib\\site-packages (from sentence-transformers) (4.67.1)\n",
      "Requirement already satisfied: torch>=1.11.0 in c:\\users\\pankaj sharma\\anaconda3\\envs\\genai\\lib\\site-packages (from sentence-transformers) (2.7.1)\n",
      "Requirement already satisfied: scikit-learn in c:\\users\\pankaj sharma\\anaconda3\\envs\\genai\\lib\\site-packages (from sentence-transformers) (1.7.0)\n",
      "Requirement already satisfied: scipy in c:\\users\\pankaj sharma\\anaconda3\\envs\\genai\\lib\\site-packages (from sentence-transformers) (1.15.3)\n",
      "Requirement already satisfied: huggingface-hub>=0.20.0 in c:\\users\\pankaj sharma\\anaconda3\\envs\\genai\\lib\\site-packages (from sentence-transformers) (0.33.4)\n",
      "Requirement already satisfied: Pillow in c:\\users\\pankaj sharma\\anaconda3\\envs\\genai\\lib\\site-packages (from sentence-transformers) (11.3.0)\n",
      "Requirement already satisfied: typing_extensions>=4.5.0 in c:\\users\\pankaj sharma\\anaconda3\\envs\\genai\\lib\\site-packages (from sentence-transformers) (4.14.1)\n",
      "Requirement already satisfied: filelock in c:\\users\\pankaj sharma\\anaconda3\\envs\\genai\\lib\\site-packages (from transformers<5.0.0,>=4.41.0->sentence-transformers) (3.18.0)\n",
      "Requirement already satisfied: numpy>=1.17 in c:\\users\\pankaj sharma\\anaconda3\\envs\\genai\\lib\\site-packages (from transformers<5.0.0,>=4.41.0->sentence-transformers) (2.2.6)\n",
      "Requirement already satisfied: packaging>=20.0 in c:\\users\\pankaj sharma\\anaconda3\\envs\\genai\\lib\\site-packages (from transformers<5.0.0,>=4.41.0->sentence-transformers) (25.0)\n",
      "Requirement already satisfied: pyyaml>=5.1 in c:\\users\\pankaj sharma\\anaconda3\\envs\\genai\\lib\\site-packages (from transformers<5.0.0,>=4.41.0->sentence-transformers) (6.0.2)\n",
      "Requirement already satisfied: regex!=2019.12.17 in c:\\users\\pankaj sharma\\anaconda3\\envs\\genai\\lib\\site-packages (from transformers<5.0.0,>=4.41.0->sentence-transformers) (2024.11.6)\n",
      "Requirement already satisfied: requests in c:\\users\\pankaj sharma\\anaconda3\\envs\\genai\\lib\\site-packages (from transformers<5.0.0,>=4.41.0->sentence-transformers) (2.32.4)\n",
      "Requirement already satisfied: tokenizers<0.22,>=0.21 in c:\\users\\pankaj sharma\\anaconda3\\envs\\genai\\lib\\site-packages (from transformers<5.0.0,>=4.41.0->sentence-transformers) (0.21.2)\n",
      "Requirement already satisfied: safetensors>=0.4.3 in c:\\users\\pankaj sharma\\anaconda3\\envs\\genai\\lib\\site-packages (from transformers<5.0.0,>=4.41.0->sentence-transformers) (0.5.3)\n",
      "Requirement already satisfied: fsspec>=2023.5.0 in c:\\users\\pankaj sharma\\anaconda3\\envs\\genai\\lib\\site-packages (from huggingface-hub>=0.20.0->sentence-transformers) (2025.3.0)\n",
      "Requirement already satisfied: sympy>=1.13.3 in c:\\users\\pankaj sharma\\anaconda3\\envs\\genai\\lib\\site-packages (from torch>=1.11.0->sentence-transformers) (1.14.0)\n",
      "Requirement already satisfied: networkx in c:\\users\\pankaj sharma\\anaconda3\\envs\\genai\\lib\\site-packages (from torch>=1.11.0->sentence-transformers) (3.4.2)\n",
      "Requirement already satisfied: jinja2 in c:\\users\\pankaj sharma\\anaconda3\\envs\\genai\\lib\\site-packages (from torch>=1.11.0->sentence-transformers) (3.1.6)\n",
      "Requirement already satisfied: mpmath<1.4,>=1.1.0 in c:\\users\\pankaj sharma\\anaconda3\\envs\\genai\\lib\\site-packages (from sympy>=1.13.3->torch>=1.11.0->sentence-transformers) (1.3.0)\n",
      "Requirement already satisfied: colorama in c:\\users\\pankaj sharma\\anaconda3\\envs\\genai\\lib\\site-packages (from tqdm->sentence-transformers) (0.4.6)\n",
      "Requirement already satisfied: MarkupSafe>=2.0 in c:\\users\\pankaj sharma\\anaconda3\\envs\\genai\\lib\\site-packages (from jinja2->torch>=1.11.0->sentence-transformers) (3.0.2)\n",
      "Requirement already satisfied: charset_normalizer<4,>=2 in c:\\users\\pankaj sharma\\anaconda3\\envs\\genai\\lib\\site-packages (from requests->transformers<5.0.0,>=4.41.0->sentence-transformers) (3.4.2)\n",
      "Requirement already satisfied: idna<4,>=2.5 in c:\\users\\pankaj sharma\\anaconda3\\envs\\genai\\lib\\site-packages (from requests->transformers<5.0.0,>=4.41.0->sentence-transformers) (3.10)\n",
      "Requirement already satisfied: urllib3<3,>=1.21.1 in c:\\users\\pankaj sharma\\anaconda3\\envs\\genai\\lib\\site-packages (from requests->transformers<5.0.0,>=4.41.0->sentence-transformers) (2.5.0)\n",
      "Requirement already satisfied: certifi>=2017.4.17 in c:\\users\\pankaj sharma\\anaconda3\\envs\\genai\\lib\\site-packages (from requests->transformers<5.0.0,>=4.41.0->sentence-transformers) (2025.7.14)\n",
      "Requirement already satisfied: joblib>=1.2.0 in c:\\users\\pankaj sharma\\anaconda3\\envs\\genai\\lib\\site-packages (from scikit-learn->sentence-transformers) (1.5.1)\n",
      "Requirement already satisfied: threadpoolctl>=3.1.0 in c:\\users\\pankaj sharma\\anaconda3\\envs\\genai\\lib\\site-packages (from scikit-learn->sentence-transformers) (3.6.0)\n"
     ]
    }
   ],
   "source": [
    "!pip install sentence-transformers faiss-cpu\n"
   ]
  },
  {
   "cell_type": "markdown",
   "id": "7d03f559-f025-462c-a9d2-3cc414c0ec41",
   "metadata": {},
   "source": [
    "# Step 2: Import libraries"
   ]
  },
  {
   "cell_type": "code",
   "execution_count": 5,
   "id": "168ae7c5-460e-45dc-8ba6-5adc4889802a",
   "metadata": {},
   "outputs": [],
   "source": [
    "from sentence_transformers import SentenceTransformer"
   ]
  },
  {
   "cell_type": "code",
   "execution_count": 6,
   "id": "b6806132-621c-4129-8757-bcc37d98f9d2",
   "metadata": {},
   "outputs": [],
   "source": [
    "import faiss"
   ]
  },
  {
   "cell_type": "code",
   "execution_count": 7,
   "id": "2cfcb48a-c214-430a-b599-5e337ae4d8a3",
   "metadata": {},
   "outputs": [],
   "source": [
    "import numpy as np "
   ]
  },
  {
   "cell_type": "markdown",
   "id": "f36e3116-3324-460c-a3c1-e3567a348462",
   "metadata": {},
   "source": [
    "# Why?\n",
    "\n",
    "SentenceTransformer: pre-trained embedding models\n",
    "\n",
    "faiss: indexing and searching vectors\n",
    "\n",
    "numpy: array operations (FAISS works on np.ndarray)"
   ]
  },
  {
   "cell_type": "markdown",
   "id": "877f1518-9d7c-4edb-86df-bcf20f1f398d",
   "metadata": {},
   "source": [
    " # Step 3: Define your documents"
   ]
  },
  {
   "cell_type": "code",
   "execution_count": 8,
   "id": "873497d1-c03e-457b-ba84-03422e27e2bf",
   "metadata": {},
   "outputs": [],
   "source": [
    "documents = [\n",
    "    \"The capital of France is Paris.\",\n",
    "    \"The Eiffel Tower is in Paris.\",\n",
    "    \"Berlin is the capital of Germany.\",\n",
    "    \"The Brandenburg Gate is in Berlin.\",\n",
    "    \"Tokyo is the capital of Japan.\"\n",
    "]\n"
   ]
  },
  {
   "cell_type": "markdown",
   "id": "2ffa5685-158e-4281-aa68-430380ee4ca7",
   "metadata": {},
   "source": [
    "# Why?\n",
    "\n",
    "This is our client knowledge base — 5 simple factual sentences.\n",
    "\n",
    "In a real RAG pipeline, these would come from PDF, web scraping, or a database."
   ]
  },
  {
   "cell_type": "markdown",
   "id": "ef2dbd14-32de-41f6-a186-bfb9f6c3c2a2",
   "metadata": {},
   "source": [
    "# Step 4: Generate embeddings for the documents"
   ]
  },
  {
   "cell_type": "code",
   "execution_count": 9,
   "id": "1ed6d01d-abdd-4f59-ad0d-312483cf9eb4",
   "metadata": {},
   "outputs": [],
   "source": [
    "model = SentenceTransformer(\"all-MiniLM-L6-v2\")"
   ]
  },
  {
   "cell_type": "code",
   "execution_count": 11,
   "id": "de5716d5-6d34-4a52-82ed-6b4313c0f780",
   "metadata": {},
   "outputs": [],
   "source": [
    "doc_embeddings =  model.encode(documents)"
   ]
  },
  {
   "cell_type": "markdown",
   "id": "f08e1670-9088-409e-aae5-e4b9e92e2ecd",
   "metadata": {},
   "source": [
    "# Why?\n",
    "\n",
    "We load a small, fast model: all-MiniLM-L6-v2\n",
    "\n",
    ".encode() converts each document string into a dense vector (e.g., 384 dimensions).\n",
    "\n",
    "Shape: (5, 384)\n",
    "\n"
   ]
  },
  {
   "cell_type": "markdown",
   "id": "02c0f429-bf55-4dd9-906b-0fad3b22f4c6",
   "metadata": {},
   "source": [
    "# Step 5: Initialize in FAISS"
   ]
  },
  {
   "cell_type": "code",
   "execution_count": 15,
   "id": "a1da1597-7642-4ea3-bc85-e887c925bf60",
   "metadata": {},
   "outputs": [],
   "source": [
    "dimension = doc_embeddings.shape[1]\n",
    "index = faiss.IndexFlatL2(dimension) # L2 = Euclidean"
   ]
  },
  {
   "cell_type": "markdown",
   "id": "f94b7232-4d68-412b-a25a-54a0d9b25fb7",
   "metadata": {},
   "source": [
    "# Why?\n",
    "\n",
    "dimension must match the embedding size (384 here).\n",
    "\n",
    "IndexFlatL2 → flat (brute-force) index using L2 distance (Euclidean)."
   ]
  },
  {
   "cell_type": "markdown",
   "id": "3f98af3b-abbb-4520-b866-3de0da13d6aa",
   "metadata": {},
   "source": [
    "# Step 6: Add embeddings to FAISS"
   ]
  },
  {
   "cell_type": "code",
   "execution_count": 16,
   "id": "640e2060-254c-4cf7-b2d1-57bab9ade934",
   "metadata": {},
   "outputs": [],
   "source": [
    "index.add(np.array(doc_embeddings))"
   ]
  },
  {
   "cell_type": "markdown",
   "id": "f7ae2539-e66b-48e1-ad38-5713d34b66f3",
   "metadata": {},
   "source": [
    "# Why?\n",
    "\n",
    "This stores the vectors in the FAISS index, ready for similarity search.\n",
    "\n",
    "You can also add metadata if you build a more advanced system.\n",
    "\n",
    "\n"
   ]
  },
  {
   "cell_type": "markdown",
   "id": "9761fd5a-2104-4423-a299-6d2d629c871e",
   "metadata": {},
   "source": [
    "# Step 7: Query Emdedding"
   ]
  },
  {
   "cell_type": "code",
   "execution_count": 19,
   "id": "3c27fe4c-4a67-4c12-9105-322bf4f64a33",
   "metadata": {},
   "outputs": [],
   "source": [
    "query = \"Where is eiffel Tower?\"\n",
    "query_embedding = model.encode([query])\n"
   ]
  },
  {
   "cell_type": "markdown",
   "id": "eec6fe95-b319-4b75-a383-135ac7d6f1da",
   "metadata": {},
   "source": [
    "  # Why?\n",
    "\n",
    "We convert the query string into an embedding — in the same vector space as the documents."
   ]
  },
  {
   "cell_type": "markdown",
   "id": "ee0c846b-3438-4d60-a20a-be22cba07b2b",
   "metadata": {},
   "source": [
    "# Step 8: Search"
   ]
  },
  {
   "cell_type": "code",
   "execution_count": null,
   "id": "71af3646-7abe-438a-b95b-4fd0067066e1",
   "metadata": {},
   "outputs": [],
   "source": [
    "k = 2 # top-2\n",
    "distances,indices = index.search(np.array(query_embedding),k)"
   ]
  },
  {
   "cell_type": "markdown",
   "id": "c70d1fe9-5b0e-4603-997e-fb832fd8aeea",
   "metadata": {},
   "source": [
    "# Why?\n",
    "\n",
    "index.search() takes the query vector and finds the k most similar document vectors.\n",
    "\n",
    "Returns:\n",
    "\n",
    "distances: array of distances (lower = more similar)\n",
    "\n",
    "indices: array of indices (document positions)\n",
    "\n"
   ]
  },
  {
   "cell_type": "markdown",
   "id": "a9abdd4d-0ed0-4c24-9c15-4fb94ac004bc",
   "metadata": {},
   "source": [
    "# Step 9: Print results"
   ]
  },
  {
   "cell_type": "code",
   "execution_count": 21,
   "id": "c46223c4-69a1-46f3-9bdb-63e2c3ceadf8",
   "metadata": {},
   "outputs": [
    {
     "name": "stdout",
     "output_type": "stream",
     "text": [
      "The Eiffel Tower is in Paris.\n",
      "The capital of France is Paris.\n"
     ]
    }
   ],
   "source": [
    "for idx in indices[0]:\n",
    "    print(documents[idx])\n",
    "    "
   ]
  },
  {
   "cell_type": "markdown",
   "id": "d62c8e1e-9afc-48ad-9054-ada3e7cb7f59",
   "metadata": {},
   "source": [
    "# Why?\n",
    "\n",
    "Maps the indices back to the original document text and prints."
   ]
  },
  {
   "cell_type": "markdown",
   "id": "c1597812-b1d2-4273-86ee-afc8d54828d4",
   "metadata": {},
   "source": [
    "# Summary:\n",
    "\n",
    "You embedded documents → stored them in FAISS\n",
    "\n",
    "Embedded query → searched top-k in FAISS\n",
    "\n",
    "Retrieved the most relevant documents"
   ]
  },
  {
   "cell_type": "markdown",
   "id": "a49e16e6-c1d2-4b63-9a23-b3e284b7a77a",
   "metadata": {},
   "source": [
    "# Interview-ready takeaway:\n",
    "In a RAG pipeline, we use FAISS or similar vector databases to store embeddings of client knowledge base and retrieve top-k relevant documents based on query embeddings, before passing them to the LLM for final response generation."
   ]
  },
  {
   "cell_type": "code",
   "execution_count": null,
   "id": "ec7004ab-5e7e-4c19-9816-1dd370651d81",
   "metadata": {},
   "outputs": [],
   "source": []
  }
 ],
 "metadata": {
  "kernelspec": {
   "display_name": "Python (genai)",
   "language": "python",
   "name": "genai"
  },
  "language_info": {
   "codemirror_mode": {
    "name": "ipython",
    "version": 3
   },
   "file_extension": ".py",
   "mimetype": "text/x-python",
   "name": "python",
   "nbconvert_exporter": "python",
   "pygments_lexer": "ipython3",
   "version": "3.10.18"
  }
 },
 "nbformat": 4,
 "nbformat_minor": 5
}
